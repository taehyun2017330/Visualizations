{
 "cells": [
  {
   "cell_type": "code",
   "execution_count": 23,
   "metadata": {},
   "outputs": [],
   "source": [
    "import numpy as np\n",
    "import json, os\n",
    "## import spearmanr\n",
    "from scipy.stats import spearmanr, pearsonr\n",
    "import matplotlib.pyplot as plt\n",
    "import seaborn as sns\n",
    "from sklearn.metrics import adjusted_mutual_info_score, v_measure_score, adjusted_rand_score, normalized_mutual_info_score, homogeneity_completeness_v_measure\n",
    "import pandas as pd\n",
    "from scipy.cluster import hierarchy\n",
    "from scipy.stats import ttest_ind"
   ]
  },
  {
   "cell_type": "code",
   "execution_count": 24,
   "metadata": {},
   "outputs": [
    {
     "data": {
      "text/plain": [
       "['statlog_image_segmentation_final.npy',\n",
       " 'statlog_image_segmentation_init.npy',\n",
       " 'dry_bean_final.npy',\n",
       " 'dry_bean_init.npy',\n",
       " 'optical_recognition_of_handwritten_digits_final.npy',\n",
       " 'optical_recognition_of_handwritten_digits_init.npy',\n",
       " 'crowdsourced_mapping_final.npy',\n",
       " 'crowdsourced_mapping_init.npy',\n",
       " 'fashion_mnist_final.npy',\n",
       " 'fashion_mnist_init.npy',\n",
       " 'durum_wheat_features_final.npy',\n",
       " 'durum_wheat_features_init.npy',\n",
       " 'cardiovascular_study_final.npy',\n",
       " 'cardiovascular_study_init.npy',\n",
       " 'durum_wheat_features_final.npy',\n",
       " 'durum_wheat_features_init.npy',\n",
       " 'rice_seed_gonen_jasmine_final.npy',\n",
       " 'rice_seed_gonen_jasmine_init.npy',\n",
       " 'htru2_final.npy',\n",
       " 'htru2_init.npy']"
      ]
     },
     "execution_count": 24,
     "metadata": {},
     "output_type": "execute_result"
    }
   ],
   "source": [
    "study_result = []\n",
    "for part in os.listdir(\"./results/pilots\"):\n",
    "  if part[-5:] == \".json\":\n",
    "    with open(\"./results/pilots/\" + part, \"r\") as f:\n",
    "      study_result.append(json.load(f))\n",
    "\n",
    "keys = json.load(open(\"./ambreducer_list/ambreducer_list.json\", \"r\"))\n",
    "\n",
    "keys"
   ]
  },
  {
   "cell_type": "code",
   "execution_count": 3,
   "metadata": {},
   "outputs": [
    {
     "ename": "ValueError",
     "evalue": "invalid literal for int() with base 10: ''",
     "output_type": "error",
     "traceback": [
      "\u001b[0;31m---------------------------------------------------------------------------\u001b[0m",
      "\u001b[0;31mValueError\u001b[0m                                Traceback (most recent call last)",
      "\u001b[1;32m/home/hj/cluster-ambiguity/src/applications/analysis.ipynb Cell 3\u001b[0m in \u001b[0;36m1\n\u001b[1;32m     <a href='vscode-notebook-cell://ssh-remote%2Bold.hcil.snu.ac.kr/home/hj/cluster-ambiguity/src/applications/analysis.ipynb#W2sdnNjb2RlLXJlbW90ZQ%3D%3D?line=12'>13</a>\u001b[0m   job\u001b[39m.\u001b[39mappend(demo[\u001b[39m\"\u001b[39m\u001b[39mjob\u001b[39m\u001b[39m\"\u001b[39m])\n\u001b[1;32m     <a href='vscode-notebook-cell://ssh-remote%2Bold.hcil.snu.ac.kr/home/hj/cluster-ambiguity/src/applications/analysis.ipynb#W2sdnNjb2RlLXJlbW90ZQ%3D%3D?line=13'>14</a>\u001b[0m   major\u001b[39m.\u001b[39mappend(demo[\u001b[39m\"\u001b[39m\u001b[39mmajor\u001b[39m\u001b[39m\"\u001b[39m])\n\u001b[0;32m---> <a href='vscode-notebook-cell://ssh-remote%2Bold.hcil.snu.ac.kr/home/hj/cluster-ambiguity/src/applications/analysis.ipynb#W2sdnNjb2RlLXJlbW90ZQ%3D%3D?line=15'>16</a>\u001b[0m age \u001b[39m=\u001b[39m np\u001b[39m.\u001b[39;49marray(age, dtype\u001b[39m=\u001b[39;49mnp\u001b[39m.\u001b[39;49mint32)\n\u001b[1;32m     <a href='vscode-notebook-cell://ssh-remote%2Bold.hcil.snu.ac.kr/home/hj/cluster-ambiguity/src/applications/analysis.ipynb#W2sdnNjb2RlLXJlbW90ZQ%3D%3D?line=16'>17</a>\u001b[0m \u001b[39mprint\u001b[39m(male_female)\n\u001b[1;32m     <a href='vscode-notebook-cell://ssh-remote%2Bold.hcil.snu.ac.kr/home/hj/cluster-ambiguity/src/applications/analysis.ipynb#W2sdnNjb2RlLXJlbW90ZQ%3D%3D?line=17'>18</a>\u001b[0m \u001b[39mprint\u001b[39m(np\u001b[39m.\u001b[39mmean(age), np\u001b[39m.\u001b[39mstd(age), np\u001b[39m.\u001b[39mmin(age), np\u001b[39m.\u001b[39mmax(age))\n",
      "\u001b[0;31mValueError\u001b[0m: invalid literal for int() with base 10: ''"
     ]
    }
   ],
   "source": [
    "### demographic analysis\n",
    "male_female = [0, 0]\n",
    "age = []\n",
    "job = []\n",
    "major = []\n",
    "for study_result_single in study_result:\n",
    "  demo = study_result_single[\"demographic\"]\n",
    "  if demo[\"gender\"] == \"male\":\n",
    "    male_female[0] += 1\n",
    "  else:\n",
    "    male_female[1] += 1\n",
    "  age.append(demo[\"age\"])\n",
    "  job.append(demo[\"job\"])\n",
    "  major.append(demo[\"major\"])\n",
    "\n",
    "age = np.array(age, dtype=np.int32)\n",
    "print(male_female)\n",
    "print(np.mean(age), np.std(age), np.min(age), np.max(age))\n",
    "print(job)\n",
    "print(major)"
   ]
  },
  {
   "cell_type": "code",
   "execution_count": 28,
   "metadata": {},
   "outputs": [
    {
     "name": "stdout",
     "output_type": "stream",
     "text": [
      "[0.5262424908389984, 0.5043538358780456, 0.5514110194505837, 0.691763763086394, 0.6687512022945588, 0.6759139967028854, 0.7083241180427567, 0.6759139967028854, 0.5000000000000012, 0.5000000000000057]\n",
      "[0.6750208117608546, 0.7146643903648918, 0.5000000000000002, 0.4999999999994969, 0.6771129379682597, 0.5, 0.7185412618724188, 0.5, 0.49999999999999883, 0.4999999999997271]\n",
      "ami_ambiguity_final_list 0.6002674422997114\n",
      "ami_ambiguity_init_list 0.5785339401965649\n"
     ]
    },
    {
     "data": {
      "text/plain": [
       "Ttest_indResult(statistic=0.5037493859890734, pvalue=0.6205469950079514)"
      ]
     },
     "execution_count": 28,
     "metadata": {},
     "output_type": "execute_result"
    }
   ],
   "source": [
    "ami_ambiguity_final_list = []\n",
    "arand_ambiguity_final_list = []\n",
    "v_measure_score_final_list = []\n",
    "homo_score_final_list = []\n",
    "comp_score_final_list = []\n",
    "ami_ambiguity_init_list = []\n",
    "arand_ambiguity_init_list = []\n",
    "v_measure_score_init_list = []\n",
    "homo_score_init_list = []\n",
    "comp_score_init_list = []\n",
    "\n",
    "# print(keys)\n",
    "# if \"optical_recognition_of_handwritten_digits_final.npy\" in keys:\n",
    "# \tkeys.remove(\"optical_recognition_of_handwritten_digits_final.npy\")\n",
    "# \tkeys.remove(\"optical_recognition_of_handwritten_digits_init.npy\")\n",
    "for key in keys:\n",
    "  key = key[:-4]\n",
    "  labels = []\n",
    "  with open(\"../clams/ambreducer_results/\" + key + \".json\", \"r\") as f:\n",
    "    length = len(json.load(f))\n",
    "  for result in study_result:\n",
    "    lasso_result = result[\"lassoResult\"][key]\n",
    "    \n",
    "    label = [\"-1\"] * length\n",
    "    for brushIdx in lasso_result:\n",
    "      brush = lasso_result[brushIdx]\n",
    "      for i, point in enumerate(brush):\n",
    "        if point == True:\n",
    "          if label[i] == \"-1\":\n",
    "            label[i] = brushIdx\n",
    "          else:\n",
    "            label[i] += \"_\" + brushIdx\n",
    "    labels.append(label)\n",
    "\n",
    "  ## calculate the pairwise correlation average\n",
    "  curr_ami_final = [] \n",
    "  curr_arand_final = []\n",
    "  curr_vm_final = []\n",
    "  curr_homo_final = []\n",
    "  curr_comp_final = []\n",
    "  curr_ami_init = []\n",
    "  curr_arand_init = []\n",
    "  curr_vm_init = []\n",
    "  curr_homo_init = []\n",
    "  curr_comp_init = []\n",
    "  for i_idx in range(len(labels)):\n",
    "    for j_idx in range(i_idx+1, len(labels)):\n",
    "      if key.endswith(\"_final\"):\n",
    "        curr_ami_final.append(1 - adjusted_mutual_info_score(labels[i_idx], labels[j_idx]))\n",
    "        curr_arand_final.append(1 - adjusted_rand_score(labels[i_idx], labels[j_idx]))\n",
    "        hcv = homogeneity_completeness_v_measure(labels[i_idx], labels[j_idx])\n",
    "        curr_vm_final.append(1 - hcv[2])\n",
    "        curr_homo_final.append(1 - hcv[0])\n",
    "        curr_comp_final.append(1 - hcv[1])\n",
    "      else:\n",
    "        curr_ami_init.append(1 - adjusted_mutual_info_score(labels[i_idx], labels[j_idx]))\n",
    "        curr_arand_init.append(1 - adjusted_rand_score(labels[i_idx], labels[j_idx]))\n",
    "        hcv = homogeneity_completeness_v_measure(labels[i_idx], labels[j_idx])\n",
    "        curr_vm_init.append(1 - hcv[2])\n",
    "        curr_homo_init.append(1 - hcv[0])\n",
    "        curr_comp_init.append(1 - hcv[1]) \n",
    "\n",
    "  if key.endswith(\"_final\"):\n",
    "    # ami_ambiguity_final_list += curr_ami_final\n",
    "    # arand_ambiguity_final_list += curr_arand_final\n",
    "    # v_measure_score_final_list += curr_vm_final\n",
    "    # homo_score_final_list += curr_homo_final\n",
    "    # comp_score_final_list += curr_comp_final\n",
    "    ami_ambiguity_final_list.append(np.mean(curr_ami_final))\n",
    "    arand_ambiguity_final_list.append(np.mean(curr_arand_final))\n",
    "    v_measure_score_final_list.append(np.mean(curr_vm_final))\n",
    "    homo_score_final_list.append(np.mean(curr_homo_final))\n",
    "    comp_score_final_list.append(np.mean(curr_comp_final))\n",
    "    \n",
    "  else:\n",
    "    # ami_ambiguity_init_list += curr_ami_init\n",
    "    # arand_ambiguity_init_list += curr_arand_init\n",
    "    # v_measure_score_init_list += curr_vm_init\n",
    "    # homo_score_init_list += curr_homo_init\n",
    "    # comp_score_init_list += curr_comp_init\n",
    "    ami_ambiguity_init_list.append(np.mean(curr_ami_init))\n",
    "    arand_ambiguity_init_list.append(np.mean(curr_arand_init))\n",
    "    v_measure_score_init_list.append(np.mean(curr_vm_init))\n",
    "    homo_score_init_list.append(np.mean(curr_homo_init))\n",
    "    comp_score_init_list.append(np.mean(curr_comp_init))\n",
    "    \n",
    "\n"
   ]
  },
  {
   "cell_type": "code",
   "execution_count": 29,
   "metadata": {},
   "outputs": [
    {
     "name": "stdout",
     "output_type": "stream",
     "text": [
      "ami_ambiguity_final_list 0.6002674422997114\n",
      "ami_ambiguity_init_list 0.5785339401965649\n",
      "Ttest_indResult(statistic=0.5037493859890734, pvalue=0.6205469950079514)\n",
      "arand_ambiguity_final_list 0.6149160539923149\n",
      "arand_ambiguity_init_list 0.5948259020475577\n",
      "Ttest_indResult(statistic=0.39035955930132277, pvalue=0.7008517756957777)\n",
      "v_measure_score_final_list 0.6002171389087431\n",
      "v_measure_score_init_list 0.5784681111297039\n",
      "Ttest_indResult(statistic=0.5043930389493279, pvalue=0.6201036614886355)\n",
      "homo_score_final_list 0.5449790837313226\n",
      "homo_score_init_list 0.4366391688471861\n",
      "Ttest_indResult(statistic=1.704514247232007, pvalue=0.10548473353834345)\n",
      "comp_score_final_list 0.532576868393171\n",
      "comp_score_init_list 0.5138986321039535\n",
      "Ttest_indResult(statistic=0.28566574190299104, pvalue=0.778395506583498)\n"
     ]
    }
   ],
   "source": [
    "print(\"ami_ambiguity_final_list\", np.mean(ami_ambiguity_final_list))\n",
    "print(\"ami_ambiguity_init_list\", np.mean(ami_ambiguity_init_list))\n",
    "print(ttest_ind(ami_ambiguity_final_list, ami_ambiguity_init_list))\n",
    "\n",
    "print(\"arand_ambiguity_final_list\", np.mean(arand_ambiguity_final_list))\n",
    "print(\"arand_ambiguity_init_list\", np.mean(arand_ambiguity_init_list))\n",
    "print(ttest_ind(arand_ambiguity_final_list, arand_ambiguity_init_list))\n",
    "\n",
    "print(\"v_measure_score_final_list\", np.mean(v_measure_score_final_list))\n",
    "print(\"v_measure_score_init_list\", np.mean(v_measure_score_init_list))\n",
    "print(ttest_ind(v_measure_score_final_list, v_measure_score_init_list))\n",
    "\n",
    "print(\"homo_score_final_list\", np.mean(homo_score_final_list))\n",
    "print(\"homo_score_init_list\", np.mean(homo_score_init_list))\n",
    "print(ttest_ind(homo_score_final_list, homo_score_init_list))\n",
    "\n",
    "print(\"comp_score_final_list\", np.mean(comp_score_final_list))\n",
    "print(\"comp_score_init_list\", np.mean(comp_score_init_list))\n",
    "print(ttest_ind(comp_score_final_list, comp_score_init_list))"
   ]
  },
  {
   "cell_type": "code",
   "execution_count": null,
   "metadata": {},
   "outputs": [],
   "source": []
  }
 ],
 "metadata": {
  "kernelspec": {
   "display_name": "cambiguity",
   "language": "python",
   "name": "python3"
  },
  "language_info": {
   "codemirror_mode": {
    "name": "ipython",
    "version": 3
   },
   "file_extension": ".py",
   "mimetype": "text/x-python",
   "name": "python",
   "nbconvert_exporter": "python",
   "pygments_lexer": "ipython3",
   "version": "3.9.15"
  },
  "orig_nbformat": 4
 },
 "nbformat": 4,
 "nbformat_minor": 2
}
