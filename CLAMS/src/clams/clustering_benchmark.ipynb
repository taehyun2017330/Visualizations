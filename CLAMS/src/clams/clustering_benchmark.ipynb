{
 "cells": [
  {
   "cell_type": "code",
   "execution_count": 2,
   "metadata": {},
   "outputs": [],
   "source": [
    "import numpy as np\n",
    "import pandas as pd\n",
    "import json\n",
    "import clustering_benchmark_helper as cbh\n",
    "from tqdm import tqdm\n",
    "import importlib\n",
    "from scipy.stats import spearmanr\n",
    "import matplotlib.pyplot as plt\n",
    "import seaborn as sns\n",
    "\n",
    "importlib.reload(cbh)\n",
    "\n",
    "import warnings\n",
    "warnings.filterwarnings(\"ignore\")\n"
   ]
  },
  {
   "cell_type": "code",
   "execution_count": 3,
   "metadata": {},
   "outputs": [],
   "source": [
    "ambiguity_score_path = \"../scatterplots/sampling/ambiguity_1_1.0253166008287824.npy\"\n",
    "ambiguity_score = np.load(ambiguity_score_path)\n",
    "keys = np.load(\"../scatterplots/userstudy_ambiguity/keys.npy\")\n",
    "\n",
    "scatterplot_dict = {}\n",
    "for i, key in enumerate(keys):\n",
    "\tscatterplot_dict[key] = np.load(f\"../scatterplots/scatterplots/{key}\")[::10]"
   ]
  },
  {
   "cell_type": "code",
   "execution_count": 21,
   "metadata": {},
   "outputs": [
    {
     "name": "stderr",
     "output_type": "stream",
     "text": [
      "100%|██████████| 60/60 [24:18<00:00, 24.30s/it]\n"
     ]
    }
   ],
   "source": [
    "scorer = cbh.silhouette_scorer\n",
    "hdbscan_scores = []\n",
    "dbscan_scores = []\n",
    "kmeans_scores = []\n",
    "xmeans_scores = []\n",
    "birch_scores = []\n",
    "agglo_complete_scores = []\n",
    "agglo_average_scores = []\n",
    "agglo_single_scores = []\n",
    "\n",
    "for key, scatterplot in tqdm(scatterplot_dict.items()):\n",
    "\thdbscan_scores.append(cbh.hdbscan_scorer(scatterplot, scorer))\n",
    "\tdbscan_scores.append(cbh.dbscan_scorer(scatterplot, scorer))\n",
    "\tkmeans_scores.append(cbh.kmeans_scorer(scatterplot, scorer))\n",
    "\txmeans_scores.append(cbh.xmeans_scorer(scatterplot, scorer))\n",
    "\tbirch_scores.append(cbh.birch_scorer(scatterplot, scorer))\n",
    "\tagglo_complete_scores.append(cbh.agglo_scorer(scatterplot, scorer, linkage=\"complete\"))\n",
    "\tagglo_average_scores.append(cbh.agglo_scorer(scatterplot, scorer, linkage=\"average\"))\n",
    "\tagglo_single_scores.append(cbh.agglo_scorer(scatterplot, scorer, linkage=\"single\"))\n",
    "\n",
    "# for key, scatterplot in tqdm(scatterplot_dict.items()):\n",
    "# \thdbscan_scores.append(cbh.hdbscan_naive_scorer(scatterplot, scorer))\n",
    "# \tdbscan_scores.append(cbh.dbscan_naive_scorer(scatterplot, scorer))\n",
    "# \tkmeans_scores.append(cbh.kmeans_naive_scorer(scatterplot, scorer))\n",
    "# \txmeans_scores.append(cbh.xmeans_naive_scorer(scatterplot, scorer))\n",
    "# \tbirch_scores.append(cbh.birch_naive_scorer(scatterplot, scorer))\n",
    "# \tagglo_complete_scores.append(cbh.agglomerative_naive_scorer(scatterplot, scorer, linkage=\"complete\"))\n",
    "# \tagglo_average_scores.append(cbh.agglomerative_naive_scorer(scatterplot, scorer, linkage=\"average\"))\n",
    "# \tagglo_single_scores.append(cbh.agglomerative_naive_scorer(scatterplot, scorer, linkage=\"single\"))"
   ]
  },
  {
   "cell_type": "code",
   "execution_count": 22,
   "metadata": {},
   "outputs": [],
   "source": [
    "metric = \"silhouette\"\n",
    "\n",
    "np.save(f\"./clustering_benchmark/hdbscan_{metric}_scores.npy\", hdbscan_scores)\n",
    "np.save(f\"./clustering_benchmark/dbscan_{metric}_scores.npy\", dbscan_scores)\n",
    "np.save(f\"./clustering_benchmark/kmeans_{metric}_scores.npy\", kmeans_scores)\n",
    "np.save(f\"./clustering_benchmark/xmeans_{metric}_scores.npy\", xmeans_scores)\n",
    "np.save(f\"./clustering_benchmark/birch_{metric}_scores.npy\", birch_scores)\n",
    "np.save(f\"./clustering_benchmark/agglo_complete_{metric}_scores.npy\", agglo_complete_scores)\n",
    "np.save(f\"./clustering_benchmark/agglo_average_{metric}_scores.npy\", agglo_average_scores)\n",
    "np.save(f\"./clustering_benchmark/agglo_single_{metric}_scores.npy\", agglo_single_scores)"
   ]
  },
  {
   "cell_type": "code",
   "execution_count": 7,
   "metadata": {},
   "outputs": [],
   "source": [
    "metric = \"calinski\"\n",
    "\n",
    "def plot(metric, ax):\n",
    "\n",
    "\thdbscan_scores = np.load(f\"./clustering_benchmark/hdbscan_{metric}_scores.npy\")\n",
    "\tdbscan_scores = np.load(f\"./clustering_benchmark/dbscan_{metric}_scores.npy\")\n",
    "\tkmeans_scores = np.load(f\"./clustering_benchmark/kmeans_{metric}_scores.npy\")\n",
    "\txmeans_scores = np.load(f\"./clustering_benchmark/xmeans_{metric}_scores.npy\")\n",
    "\tbirch_scores = np.load(f\"./clustering_benchmark/birch_{metric}_scores.npy\")\n",
    "\tagglo_complete_scores = np.load(f\"./clustering_benchmark/agglo_complete_{metric}_scores.npy\")\n",
    "\tagglo_average_scores = np.load(f\"./clustering_benchmark/agglo_average_{metric}_scores.npy\")\n",
    "\tagglo_single_scores = np.load(f\"./clustering_benchmark/agglo_single_{metric}_scores.npy\")\n",
    "\n",
    "\ttop_ambiguity_score_index = np.argsort(ambiguity_score)[::-1][:20]\n",
    "\tbottom_ambiguity_score_index = np.argsort(ambiguity_score)[:20]\n",
    "\tmiddle_ambiguity_score_index = np.argsort(ambiguity_score)[20:40]\n",
    "\n",
    "\tindex_lists      = [bottom_ambiguity_score_index, middle_ambiguity_score_index, top_ambiguity_score_index]\n",
    "\tindex_name_lists = [\"$\\mathbf{P}_l$\", \"$\\mathbf{P}_m$\", \"$\\mathbf{P}_h$\"]\n",
    "\tscores_list = [\n",
    "\t\thdbscan_scores,\n",
    "\t\tdbscan_scores,\n",
    "\t\tkmeans_scores,\n",
    "\t\txmeans_scores,\n",
    "\t\tbirch_scores,\n",
    "\t\tagglo_complete_scores,\n",
    "\t\tagglo_average_scores,\n",
    "\t\tagglo_single_scores\n",
    "\t]\n",
    "\n",
    "\tindex_to_corrs = {}\n",
    "\n",
    "\t## naive rank correlation test\n",
    "\tfor idx, index_list in enumerate(index_lists):\n",
    "\t\tcorrs = []\n",
    "\t\tfor i in range(len(index_list)):\n",
    "\t\t\tfor j in range(0, i):\n",
    "\t\t\t\ti_score_list = []\n",
    "\t\t\t\tj_score_list = []\n",
    "\t\t\t\tfor scores in scores_list:\n",
    "\t\t\t\t\ti_score_list.append(scores[index_list[i]])\n",
    "\t\t\t\t\tj_score_list.append(scores[index_list[j]])\n",
    "\t\t\t\t\n",
    "\t\t\t\tcorr = spearmanr(i_score_list, j_score_list)\n",
    "\t\t\t\tcorrs.append(corr[0])\n",
    "\t\t\n",
    "\t\tindex_to_corrs[index_name_lists[idx]] = corrs\n",
    "\t\n",
    "\tkeys = []\n",
    "\tvalues = []\n",
    "\n",
    "\tfor key, value in index_to_corrs.items():\n",
    "\t\tkeys += [key] * len(value)\n",
    "\t\tvalues += value\n",
    "\n",
    "\tdf = pd.DataFrame({\n",
    "\t\t\"Scatterplot\": keys,\n",
    "\t\t\"Correlation\": values\n",
    "\t})\n",
    "\n",
    "\tsns.boxplot(x=\"Correlation\", y=\"Scatterplot\", data=df, ax=ax)\n",
    "\n",
    "\tax.set_ylabel(\"\")\n",
    "\tif metric == \"silhouette\":\n",
    "\t\tax.set_title(\"(a) Silhouette Coefficient\")\n",
    "\telif metric == \"calinski\":\n",
    "\t\tax.set_title(\"(b) Calinski-Harabasz Index\")\n",
    "\tax.set_xlabel(\"Pairwise Correlation\")\n",
    "\n",
    "\tax.set_xlabel(\"Average Pairwise Correlation\")\n",
    "\n",
    "\treturn df\n"
   ]
  },
  {
   "cell_type": "code",
   "execution_count": 9,
   "metadata": {},
   "outputs": [
    {
     "data": {
      "image/png": "[encoded data removed]",
      "text/plain": [
       "<Figure size 1500x200 with 2 Axes>"
      ]
     },
     "metadata": {},
     "output_type": "display_data"
    }
   ],
   "source": [
    "sns.set_style(\"whitegrid\")\n",
    "fig, ax = plt.subplots(1, 2, figsize=(15, 2), sharey=True)\n",
    "\n",
    "sil_df = plot(\"silhouette\", ax[0])\n",
    "cal_df = plot(\"calinski\", ax[1])\n",
    "\n",
    "plt.tight_layout()\n",
    "plt.savefig(\"./clustering_benchmark/plot/result.pdf\", dpi=300)\n",
    "plt.savefig(\"./clustering_benchmark/plot/result.png\", dpi=300)\n",
    "plt.show()"
   ]
  },
  {
   "cell_type": "code",
   "execution_count": 25,
   "metadata": {},
   "outputs": [
    {
     "name": "stdout",
     "output_type": "stream",
     "text": [
      "                   sum_sq     df          F        PR(>F)\n",
      "C(Scatterplot)   7.034103    2.0  54.106245  3.121941e-22\n",
      "Residual        36.856524  567.0        NaN           NaN\n",
      "        Multiple Comparison of Means - Tukey HSD, FWER=0.05         \n",
      "====================================================================\n",
      "     group1          group2     meandiff p-adj  lower  upper  reject\n",
      "--------------------------------------------------------------------\n",
      "$\\mathcal{P}_h$ $\\mathcal{P}_l$   0.2686    0.0 0.2071 0.3301   True\n",
      "$\\mathcal{P}_h$ $\\mathcal{P}_m$   0.1721    0.0 0.1106 0.2336   True\n",
      "$\\mathcal{P}_l$ $\\mathcal{P}_m$  -0.0965 0.0007 -0.158 -0.035   True\n",
      "--------------------------------------------------------------------\n"
     ]
    }
   ],
   "source": [
    "## run anova test\n",
    "\n",
    "import statsmodels.api as sm\n",
    "from statsmodels.formula.api import ols\n",
    "\n",
    "df = sil_df\n",
    "\n",
    "model = ols('Correlation ~ C(Scatterplot)', data=df).fit()\n",
    "\n",
    "anova_table = sm.stats.anova_lm(model, typ=2)\n",
    "print(anova_table)\n",
    "\n",
    "## run post-hoc test\n",
    "\n",
    "from statsmodels.stats.multicomp import pairwise_tukeyhsd\n",
    "\n",
    "tukey = pairwise_tukeyhsd(endog=df['Correlation'], groups=df['Scatterplot'], alpha=0.05)\n",
    "print(tukey)\n",
    "  \n",
    "\n",
    "  \n"
   ]
  }
 ],
 "metadata": {
  "kernelspec": {
   "display_name": "cambiguity",
   "language": "python",
   "name": "python3"
  },
  "language_info": {
   "codemirror_mode": {
    "name": "ipython",
    "version": 3
   },
   "file_extension": ".py",
   "mimetype": "text/x-python",
   "name": "python",
   "nbconvert_exporter": "python",
   "pygments_lexer": "ipython3",
   "version": "3.9.15"
  },
  "orig_nbformat": 4,
  "vscode": {
   "interpreter": {
    "hash": "67b843df68ad62ab9d9a308ac42d910ba8af5accaed8452594a7c98329634d46"
   }
  }
 },
 "nbformat": 4,
 "nbformat_minor": 2
}
